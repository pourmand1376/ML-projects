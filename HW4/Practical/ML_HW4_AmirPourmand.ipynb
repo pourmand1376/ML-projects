{
 "cells": [
  {
   "cell_type": "markdown",
   "metadata": {
    "deletable": false,
    "editable": false,
    "heading_collapsed": true,
    "id": "7P66a3NStetI",
    "run_control": {
     "frozen": true
    }
   },
   "source": [
    "import matplotlib.pyplot as plt\n",
    "# ^^^ pyforest auto-imports - don't write above this line\n",
    "# CE-40717: Machine Learning"
   ]
  },
  {
   "cell_type": "markdown",
   "metadata": {
    "deletable": false,
    "editable": false,
    "heading_collapsed": true,
    "hidden": true,
    "run_control": {
     "frozen": true
    }
   },
   "source": [
    "## HW4-MultiLayer Perceptron (MLP)"
   ]
  },
  {
   "cell_type": "markdown",
   "metadata": {
    "hidden": true,
    "id": "ZsX3itNwTc8T"
   },
   "source": [
    "The following lines of code will load the [MNIST](http://yann.lecun.com/exdb/mnist/) data and turn them\n",
    "into numpy arrays, you can print their shape if you like.\n",
    "You can also transform the data as you wish, including seperating\n",
    "the training data for cross validation.\n",
    "\n",
    "If you have the data (on google drive or locally) change the root\n",
    "address accordingly, if you don't, set download=True but you might encounter\n",
    "some problems downloading the data."
   ]
  },
  {
   "cell_type": "code",
   "execution_count": 1,
   "metadata": {
    "hidden": true,
    "id": "eRDGolwttJJr"
   },
   "outputs": [],
   "source": [
    "# Amir Pourmand (99210259)\n",
    "\n",
    "import torchvision.datasets as ds\n",
    "from sklearn.utils import shuffle\n",
    "import numpy as np\n",
    "import pandas as pd\n",
    "\n",
    "data_train = np.array(ds.MNIST(root=\"./data\", train=True, download=True).data)\n",
    "target_train = np.array(ds.MNIST(root=\"./data\", train=True, download=True).targets)\n",
    "data_test = np.array(ds.MNIST(root=\"./data\", train=False, download=True).data)\n",
    "target_test = np.array(ds.MNIST(root=\"./data\", train=False, download=True).targets)\n",
    "\n",
    "#data_train, target_train = shuffle(data_train, target_train)\n",
    "\n",
    "#### Transform the data! ####\n",
    "data_train =data_train / 255\n",
    "data_test = data_test / 255\n",
    "\n",
    "target_train=pd.get_dummies(target_train).values\n",
    "target_test = pd.get_dummies(target_test).values\n",
    "\n",
    "data_train=data_train.reshape((-1,28*28))\n",
    "data_test = data_test.reshape((-1,28*28))\n"
   ]
  },
  {
   "cell_type": "code",
   "execution_count": 2,
   "metadata": {},
   "outputs": [],
   "source": [
    "from IPython.core.debugger import set_trace\n"
   ]
  },
  {
   "cell_type": "markdown",
   "metadata": {
    "deletable": false,
    "editable": false,
    "heading_collapsed": true,
    "hidden": true,
    "id": "OQ0i1tVuT3bb",
    "run_control": {
     "frozen": true
    }
   },
   "source": [
    "### Part1:\n",
    "Complete the functions of the MLP class to create\n",
    "a MultiLayer Perceptron"
   ]
  },
  {
   "cell_type": "code",
   "execution_count": 13,
   "metadata": {},
   "outputs": [],
   "source": [
    "def sigmoid(x, derivative=False):\n",
    "    if derivative:\n",
    "        return (np.exp(-x))/((np.exp(-x)+1)**2)\n",
    "    return 1/(1 + np.exp(-x))\n",
    "\n",
    "def softmax(x):\n",
    "    exps = np.exp(x - x.max())\n",
    "    return exps / np.sum(exps, axis=0)\n",
    "\n",
    "def ReLU(x,derivative=False):\n",
    "    if derivative:\n",
    "        return x>0\n",
    "    return x * (x>0)\n",
    "\n",
    "def safe_ln(x, minval=0.0000000001):\n",
    "    return np.log(x.clip(min=minval))\n",
    "\n",
    "def calculate_accuracy(prediction,real):\n",
    "    predictedNumber = np.argmax(prediction,axis=0)\n",
    "    realNumber = np.argmax(real,axis=0)\n",
    "    return np.mean(predictedNumber == realNumber)"
   ]
  },
  {
   "cell_type": "code",
   "execution_count": 4,
   "metadata": {
    "hidden": true,
    "id": "86AdE8SntShx"
   },
   "outputs": [],
   "source": [
    "class MLP:\n",
    "    def __init__(self, in_dimensions, hidden_dimensions, out_dimensions):\n",
    "        self.w1 = np.random.normal(size=(hidden_dimensions, in_dimensions)) / np.sqrt(hidden_dimensions)\n",
    "        self.b1 = np.random.normal(size=(hidden_dimensions,1)) / np.sqrt(hidden_dimensions)\n",
    "        self.w2 = np.random.normal(size=(out_dimensions,hidden_dimensions)) /np.sqrt(out_dimensions)\n",
    "        self.b2 = np.random.normal(size=(out_dimensions,1))  /np.sqrt(out_dimensions)\n",
    "\n",
    "    def compute_loss(self,Y):\n",
    "        Y_hat = self.a2\n",
    "        L_sum = np.sum(np.multiply(Y, np.log(Y_hat+1e-10)))\n",
    "        m = Y.shape[1]\n",
    "        L = -(1/m) * L_sum\n",
    "        return L\n",
    "    \n",
    "    def forward(self, x):\n",
    "        # perform a forward pass of the network and return the result\n",
    "        # remember to retain the value of each node (i.e. self.h1_forward)\n",
    "        # in order to use in backpropagation\n",
    "        # Use whatever activation function you wish for the first layer\n",
    "        # and softmax activation for the output layer\n",
    "        self.a0 = x.T\n",
    "        \n",
    "        self.z1 = self.w1 @ self.a0 + self.b1\n",
    "        self.a1 = ReLU(self.z1,derivative=False)\n",
    "        \n",
    "        self.z2 = self.w2 @ self.a1 + self.b2\n",
    "        self.a2 = softmax(self.z2)\n",
    "        return self.a2\n",
    "\n",
    "    def backward(self, y_target,batch_size):\n",
    "        # perform backpropagation on the loss value and compute the gradient \n",
    "        # w.r.t. every element of the network and retain them (i.e. self.w1_backward)\n",
    "        dZ2 = self.a2 - y_target\n",
    "        \n",
    "        self.w2_backward = (1./batch_size) * dZ2 @ self.a1.T\n",
    "        self.b2_backward = (1./batch_size) * np.sum(dZ2)\n",
    "        \n",
    "        dA1 = self.w2.T @ dZ2\n",
    "        dZ1 = dA1 * ReLU(self.z1,derivative=True)\n",
    "        \n",
    "        self.w1_backward = (1./batch_size) * dZ1 @ self.a0.T\n",
    "        self.b1_backward = (1./batch_size) * np.sum(dZ1)\n",
    "        \n",
    "\n",
    "    def step(self, lr, lam):\n",
    "        # simply update all the weights using the gradinets computed in backward\n",
    "        # and the given learning rate with SGD\n",
    "        # don't forget to use regularization\n",
    "        self.w2 = self.w2 - (lr * self.w2_backward - self.w2*lam*lr)\n",
    "        self.b2 = self.b2 - (lr * self.b2_backward - self.b2*lam*lr)\n",
    "        \n",
    "        self.w1 = self.w1 - (lr * self.w1_backward - self.w1*lam*lr)\n",
    "        self.b1 = self.b1 - (lr * self.b1_backward - self.b1*lam*lr)\n",
    "    \n"
   ]
  },
  {
   "cell_type": "markdown",
   "metadata": {
    "deletable": false,
    "editable": false,
    "heading_collapsed": true,
    "hidden": true,
    "id": "EeMLiOlMUC2D",
    "run_control": {
     "frozen": true
    }
   },
   "source": [
    "### Part2:\n",
    "Make instances of your network and train them **using l2 regularization and choose the lambda using k-fold cross validation\n",
    "(set the candidate lambda as you wish)**.\n",
    "\n",
    "You may choose the hyperparameters (i.e. num of epochs, learning rate etc.)\n",
    "as you wish. \n",
    "\n",
    "Then train a final model on all the training data with the chosen lambda.\n"
   ]
  },
  {
   "cell_type": "code",
   "execution_count": 40,
   "metadata": {
    "hidden": true,
    "id": "0Ojg9CSL4vei",
    "tags": [
     "outputPrepend"
    ]
   },
   "outputs": [
    {
     "name": "stdout",
     "output_type": "stream",
     "text": [
      "fold no: 0 fold acc:  0.8162 fold_loss:  1.0792690737180903\n",
      "fold no: 1 fold acc:  0.8080666666666667 fold_loss:  1.0626489894208395\n",
      "fold no: 2 fold acc:  0.8083333333333333 fold_loss:  1.1378928284978227\n",
      "fold no: 3 fold acc:  0.8220666666666666 fold_loss:  1.0075302212050754\n",
      "Lambda: 0.1\n",
      "Loss: 1.0718 Accuracy: 81.3667\n",
      "\n",
      "fold no: 0 fold acc:  0.8568666666666667 fold_loss:  0.47917044475268544\n",
      "fold no: 1 fold acc:  0.8552666666666666 fold_loss:  0.47754788058390957\n",
      "fold no: 2 fold acc:  0.8473333333333334 fold_loss:  0.49729444840726866\n",
      "fold no: 3 fold acc:  0.8512 fold_loss:  0.49522447818617005\n",
      "Lambda: 0.01\n",
      "Loss: 0.4873 Accuracy: 85.2667\n",
      "\n",
      "fold no: 0 fold acc:  0.8621333333333333 fold_loss:  0.460506910903507\n",
      "fold no: 1 fold acc:  0.8577333333333333 fold_loss:  0.46764549105813547\n",
      "fold no: 2 fold acc:  0.8454666666666667 fold_loss:  0.5207822794019893\n",
      "fold no: 3 fold acc:  0.8635333333333334 fold_loss:  0.45793130464086634\n",
      "Lambda: 0.001\n",
      "Loss: 0.4767 Accuracy: 85.7217\n",
      "\n",
      "fold no: 0 fold acc:  0.8567333333333333 fold_loss:  0.4923239110978173\n",
      "fold no: 1 fold acc:  0.8633333333333333 fold_loss:  0.4584993331114247\n",
      "fold no: 2 fold acc:  0.8415333333333334 fold_loss:  0.5256957492182955\n",
      "fold no: 3 fold acc:  0.8598666666666667 fold_loss:  0.4723363035849294\n",
      "Lambda: 0.0001\n",
      "Loss: 0.4872 Accuracy: 85.5367\n",
      "\n",
      "Best lambda is 0.001 with 85.7217 accuracy\n"
     ]
    }
   ],
   "source": [
    "n_epochs =200 # number of epochs\n",
    "lr =0.05 # learning rate\n",
    "k = 4 # number of folds\n",
    "in_dim =28*28 # MNIST has 28*28 images\n",
    "hidden_dim = 64 # number of hidden dimensions for the hidden layer\n",
    "out_dim = 10 # MNIST has 10 classes\n",
    "fold_len = int(data_train.shape[0]/k)\n",
    "lambdas = [1e-1,1e-2,1e-3,1e-4] \n",
    "best_lambda = lambdas[-1]\n",
    "best_acc = 0\n",
    "\n",
    "for l in lambdas:\n",
    "    \n",
    "    acc = 0 # accuracy for current lambda\n",
    "    loss = 0 # loss for current lambda\n",
    "    \n",
    "    for j in range(k):\n",
    "        mlp = MLP(in_dim,hidden_dim,out_dim)\n",
    "        separated=slice(j*fold_len,(j+1)*fold_len)\n",
    "        \n",
    "        fold_train_set = np.delete(data_train,separated,axis=0) # the training data for the current fold\n",
    "        fold_train_target =np.delete(target_train,separated,axis=0) # the training targets for the current fold\n",
    "        val_set =data_train[separated,:] # the validation data for the current fold\n",
    "        val_target =target_train[separated,:] # the validation targets for the current fold\n",
    "        \n",
    "        for i in range(n_epochs):\n",
    "            # train the model on the data with the curent lambda\n",
    "            mlp.forward(fold_train_set)\n",
    "            #cost = mlp.compute_loss(fold_train_target.T)\n",
    "            mlp.backward(fold_train_target.T,fold_train_target.shape[0])\n",
    "            mlp.step(lr,l)\n",
    "\n",
    "        prediction=np.argmax(mlp.forward(val_set),axis=0)\n",
    "        labels = np.argmax(val_target.T,axis=0)\n",
    "        # test the model on the current validation data\n",
    "        \n",
    "        fold_acc = np.sum(prediction == labels) / prediction.shape[0] # current fold accuracy\n",
    "        fold_loss = mlp.compute_loss(val_target.T) # current fold loss\n",
    "        \n",
    "        print('fold no:' ,j,'fold acc: ',fold_acc,'fold_loss: ', fold_loss)\n",
    "        \n",
    "        acc =acc+ fold_acc\n",
    "        loss = loss + fold_loss\n",
    "    \n",
    "    acc =100* acc / k\n",
    "    loss = loss / k\n",
    "\n",
    "\n",
    "    print(\"Lambda:\", l)\n",
    "    print(\"Loss: %.4f Accuracy: %.4f\" % (loss, acc))\n",
    "    print()\n",
    "    if acc > best_acc:\n",
    "        best_acc = acc\n",
    "        best_lambda = l\n",
    "\n",
    "print(\"Best lambda is\",best_lambda, \"with %.4f accuracy\" % best_acc)"
   ]
  },
  {
   "cell_type": "markdown",
   "metadata": {
    "deletable": false,
    "editable": false,
    "heading_collapsed": true,
    "hidden": true,
    "id": "6cDg4S27xD5Y",
    "run_control": {
     "frozen": true
    }
   },
   "source": [
    "### Part3:\n",
    "Train a final model using the best lambda on all the training data"
   ]
  },
  {
   "cell_type": "code",
   "execution_count": 38,
   "metadata": {
    "hidden": true,
    "id": "fE1mC1BkxMdt"
   },
   "outputs": [
    {
     "name": "stdout",
     "output_type": "stream",
     "text": [
      "Epoch  0 Loss:  4.860847145518798 Accuracy: 0.0799\n",
      "Epoch  20 Loss:  1.6990059618295958 Accuracy: 0.44145\n",
      "Epoch  40 Loss:  1.1429940214419825 Accuracy: 0.6585333333333333\n",
      "Epoch  60 Loss:  0.8756418866773847 Accuracy: 0.7396666666666667\n",
      "Epoch  80 Loss:  0.7376084129347397 Accuracy: 0.7810666666666667\n",
      "Epoch  100 Loss:  0.6543867508078114 Accuracy: 0.8049833333333334\n",
      "Epoch  120 Loss:  0.5982464145152718 Accuracy: 0.8217166666666667\n",
      "Epoch  140 Loss:  0.5574762991045932 Accuracy: 0.8333666666666667\n",
      "Epoch  160 Loss:  0.5262081311797537 Accuracy: 0.8431666666666666\n",
      "Epoch  180 Loss:  0.5012372775067758 Accuracy: 0.8504166666666667\n",
      "Epoch  200 Loss:  0.480700181452178 Accuracy: 0.8570666666666666\n",
      "Epoch  220 Loss:  0.4634226926280605 Accuracy: 0.8621666666666666\n",
      "Epoch  240 Loss:  0.4486056047941342 Accuracy: 0.8666333333333334\n",
      "Epoch  260 Loss:  0.43569863083457694 Accuracy: 0.8705166666666667\n",
      "Epoch  280 Loss:  0.42431100251059267 Accuracy: 0.87425\n",
      "Epoch  299 Loss:  0.4146277336140709 Accuracy: 0.8772833333333333\n"
     ]
    }
   ],
   "source": [
    "n_epochs = 300\n",
    "lr = 0.05\n",
    "\n",
    "accuracies = []\n",
    "losses =[]\n",
    "model = MLP(in_dim,hidden_dim,out_dim)\n",
    "for i in range(n_epochs):\n",
    "    #### training code here ####\n",
    "    prediction=np.argmax(model.forward(data_train),axis=0)\n",
    "    model.backward(target_train.T,target_train.shape[0])\n",
    "    model.step(lr,best_lambda)\n",
    "    \n",
    "    loss=model.compute_loss(target_train.T)\n",
    "    accuracy = np.sum(prediction == np.argmax(target_train.T,axis=0)) / target_train.shape[0]\n",
    "    \n",
    "    losses.append(loss)\n",
    "    accuracies.append(accuracy)\n",
    "    \n",
    "    if (i % 20==0) or (i == n_epochs-1):\n",
    "        print('Epoch ',i, 'Loss: ' ,loss,'Accuracy:' ,accuracy)"
   ]
  },
  {
   "cell_type": "markdown",
   "metadata": {
    "deletable": false,
    "editable": false,
    "heading_collapsed": true,
    "hidden": true,
    "run_control": {
     "frozen": true
    }
   },
   "source": [
    "### Part4:"
   ]
  },
  {
   "cell_type": "markdown",
   "metadata": {
    "hidden": true,
    "id": "6X8hFKXQUeml"
   },
   "source": [
    "Plot the training loss value and accuracy (mean over all batches each epoch if you're using mini-batches) over epochs\n",
    "for the final model that is trained on all the training data"
   ]
  },
  {
   "cell_type": "code",
   "execution_count": 56,
   "metadata": {
    "hidden": true,
    "id": "_LpeQU225eGi"
   },
   "outputs": [
    {
     "data": {
      "application/javascript": [
       "\n",
       "        if (window._pyforest_update_imports_cell) { window._pyforest_update_imports_cell('import matplotlib.pyplot as plt'); }\n",
       "    "
      ],
      "text/plain": [
       "<IPython.core.display.Javascript object>"
      ]
     },
     "metadata": {},
     "output_type": "display_data"
    },
    {
     "data": {
      "application/javascript": [
       "\n",
       "        if (window._pyforest_update_imports_cell) { window._pyforest_update_imports_cell('import matplotlib.pyplot as plt'); }\n",
       "    "
      ],
      "text/plain": [
       "<IPython.core.display.Javascript object>"
      ]
     },
     "metadata": {},
     "output_type": "display_data"
    },
    {
     "data": {
      "application/javascript": [
       "\n",
       "        if (window._pyforest_update_imports_cell) { window._pyforest_update_imports_cell('import matplotlib.pyplot as plt'); }\n",
       "    "
      ],
      "text/plain": [
       "<IPython.core.display.Javascript object>"
      ]
     },
     "metadata": {},
     "output_type": "display_data"
    },
    {
     "data": {
      "application/javascript": [
       "\n",
       "        if (window._pyforest_update_imports_cell) { window._pyforest_update_imports_cell('import matplotlib.pyplot as plt'); }\n",
       "    "
      ],
      "text/plain": [
       "<IPython.core.display.Javascript object>"
      ]
     },
     "metadata": {},
     "output_type": "display_data"
    },
    {
     "data": {
      "application/javascript": [
       "\n",
       "        if (window._pyforest_update_imports_cell) { window._pyforest_update_imports_cell('import matplotlib.pyplot as plt'); }\n",
       "    "
      ],
      "text/plain": [
       "<IPython.core.display.Javascript object>"
      ]
     },
     "metadata": {},
     "output_type": "display_data"
    },
    {
     "data": {
      "image/png": "[encoded data removed]",
      "text/plain": [
       "<Figure size 432x288 with 1 Axes>"
      ]
     },
     "metadata": {
      "needs_background": "light"
     },
     "output_type": "display_data"
    }
   ],
   "source": [
    "X = np.arange(0,300)\n",
    "loss_array = np.array(losses)\n",
    "plt.plot(X,loss_array, label = 'plot of loss decay!')\n",
    "plt.xlabel('Epochs')\n",
    "plt.ylabel('Loss')\n",
    "plt.legend()\n",
    "plt.show()"
   ]
  },
  {
   "cell_type": "code",
   "execution_count": 58,
   "metadata": {},
   "outputs": [
    {
     "data": {
      "application/javascript": [
       "\n",
       "        if (window._pyforest_update_imports_cell) { window._pyforest_update_imports_cell('import matplotlib.pyplot as plt'); }\n",
       "    "
      ],
      "text/plain": [
       "<IPython.core.display.Javascript object>"
      ]
     },
     "metadata": {},
     "output_type": "display_data"
    },
    {
     "data": {
      "application/javascript": [
       "\n",
       "        if (window._pyforest_update_imports_cell) { window._pyforest_update_imports_cell('import matplotlib.pyplot as plt'); }\n",
       "    "
      ],
      "text/plain": [
       "<IPython.core.display.Javascript object>"
      ]
     },
     "metadata": {},
     "output_type": "display_data"
    },
    {
     "data": {
      "application/javascript": [
       "\n",
       "        if (window._pyforest_update_imports_cell) { window._pyforest_update_imports_cell('import matplotlib.pyplot as plt'); }\n",
       "    "
      ],
      "text/plain": [
       "<IPython.core.display.Javascript object>"
      ]
     },
     "metadata": {},
     "output_type": "display_data"
    },
    {
     "data": {
      "application/javascript": [
       "\n",
       "        if (window._pyforest_update_imports_cell) { window._pyforest_update_imports_cell('import matplotlib.pyplot as plt'); }\n",
       "    "
      ],
      "text/plain": [
       "<IPython.core.display.Javascript object>"
      ]
     },
     "metadata": {},
     "output_type": "display_data"
    },
    {
     "data": {
      "application/javascript": [
       "\n",
       "        if (window._pyforest_update_imports_cell) { window._pyforest_update_imports_cell('import matplotlib.pyplot as plt'); }\n",
       "    "
      ],
      "text/plain": [
       "<IPython.core.display.Javascript object>"
      ]
     },
     "metadata": {},
     "output_type": "display_data"
    },
    {
     "data": {
      "image/png": "[encoded data removed]",
      "text/plain": [
       "<Figure size 432x288 with 1 Axes>"
      ]
     },
     "metadata": {
      "needs_background": "light"
     },
     "output_type": "display_data"
    }
   ],
   "source": [
    "X = np.arange(0,300)\n",
    "accuracy_array = np.array(accuracies)\n",
    "plt.plot(X,accuracy_array,label='Accuracy increse over epochs')\n",
    "plt.xlabel('Epochs')\n",
    "plt.ylabel('Accuracy')\n",
    "plt.legend()\n",
    "plt.show()"
   ]
  },
  {
   "cell_type": "markdown",
   "metadata": {
    "hidden": true,
    "id": "WIaBwatyUqmC"
   },
   "source": [
    "Use your network on the test set and report the accuracy, you must get at least 70% accuracy on the test set."
   ]
  },
  {
   "cell_type": "code",
   "execution_count": 73,
   "metadata": {
    "hidden": true,
    "id": "NmQiBh4C5ULJ"
   },
   "outputs": [
    {
     "data": {
      "text/plain": [
       "0.8839"
      ]
     },
     "execution_count": 73,
     "metadata": {},
     "output_type": "execute_result"
    }
   ],
   "source": [
    "calculate_accuracy(model.forward(data_test),target_test.T)"
   ]
  },
  {
   "cell_type": "markdown",
   "metadata": {
    "hidden": true,
    "id": "zyp8Wgx_nV-A"
   },
   "source": [
    "Below you can add code cells and improve on the network structure as you see fit (it still must be an MLP), train and test your network and explain why it works better.\n"
   ]
  },
  {
   "cell_type": "code",
   "execution_count": 19,
   "metadata": {},
   "outputs": [],
   "source": [
    "class MyMultiLayerPerceptron:\n",
    "    def __init__(self,in_dim,hidden_dim_1,hidden_dim_2,out_dim):\n",
    "        self.w1 = np.random.normal(size=(hidden_dim_1,in_dim)) * np.sqrt(1/hidden_dim_1)\n",
    "        self.b1 = np.random.normal(size=(hidden_dim_1,1)) * np.sqrt(1/hidden_dim_1)\n",
    "        \n",
    "        self.w2 = np.random.normal(size=(hidden_dim_2,hidden_dim_1)) * np.sqrt(1/hidden_dim_2)\n",
    "        self.b2 = np.random.normal(size=(hidden_dim_2,1))* np.sqrt(1/hidden_dim_2)\n",
    "        \n",
    "        self.w3 = np.random.normal(size=(out_dim,hidden_dim_2)) * np.sqrt(1/out_dim)\n",
    "        self.b3 = np.random.normal(size=(out_dim,1)) * np.sqrt(1/out_dim)\n",
    "    \n",
    "    def forward(self,x):\n",
    "        self.a0 = x.T\n",
    "        \n",
    "        self.z1 = self.w1 @ self.a0 + self.b1\n",
    "        self.a1 = ReLU(self.z1)\n",
    "        \n",
    "        self.z2 = self.w2 @ self.a1 + self.b2\n",
    "        self.a2 =ReLU(self.z2)\n",
    "        \n",
    "        self.z3 = self.w3 @ self.a2 + self.b3\n",
    "        self.a3 = softmax(self.z3)\n",
    "        \n",
    "        self.prediction = self.a3\n",
    "        return self.prediction\n",
    "        \n",
    "    def backward(self,Y_target):\n",
    "        batch_size = Y_target.shape[1]\n",
    "        dZ3 = self.a3 - Y_target\n",
    "        self.w3_backward = (1./batch_size) * dZ3 @ self.a2.T\n",
    "        self.b3_backward = (1./batch_size) * np.sum(dZ3)\n",
    "        \n",
    "        dA2 = self.w3.T @ dZ3\n",
    "        dZ2 = dA2 * ReLU(self.z2,derivative=True)\n",
    "        self.w2_backward = (1./batch_size) * dZ2 @ self.a1.T\n",
    "        self.b2_backward = (1./batch_size) * np.sum(dZ2)\n",
    "        \n",
    "        dA1 = self.w2.T @ dZ2\n",
    "        dZ1 = dA1 * ReLU(self.z1,derivative=True)\n",
    "        self.w1_backward = (1./batch_size) * dZ1 @ self.a0.T\n",
    "        self.b1_backward = (1./batch_size) * np.sum(dZ1)\n",
    "        \n",
    "    \n",
    "    def step(self,lr,lam):\n",
    "        self.w3 = self.w3 - (lr * self.w3_backward - self.w3*lam*lr)\n",
    "        self.b3 = self.b3 - (lr * self.b3_backward - self.b3*lam*lr)\n",
    "        \n",
    "        self.w2 = self.w2 - (lr * self.w2_backward - self.w2*lam*lr)\n",
    "        self.b2 = self.b2 - (lr * self.b2_backward - self.b2*lam*lr)\n",
    "        \n",
    "        self.w1 = self.w1 - (lr * self.w1_backward - self.w1*lam*lr)\n",
    "        self.b1 = self.b1 - (lr * self.b1_backward - self.b1*lam*lr)\n",
    "        \n",
    "    def compute_loss(self,Y):\n",
    "        Y_hat = self.prediction\n",
    "        L_sum = np.sum(np.multiply(Y, np.log(Y_hat+1e-10)))\n",
    "        m = Y.shape[1]\n",
    "        L = -(1/m) * L_sum\n",
    "        return L"
   ]
  },
  {
   "cell_type": "code",
   "execution_count": 39,
   "metadata": {},
   "outputs": [
    {
     "name": "stdout",
     "output_type": "stream",
     "text": [
      "Epoch: 0,Loss: 3.0405598605498056, Accuracy: 0.12475\n",
      "Epoch: 10,Loss: 2.182132743491792, Accuracy: 0.18021666666666666\n",
      "Epoch: 20,Loss: 2.0805272448973597, Accuracy: 0.2123\n",
      "Epoch: 30,Loss: 1.5393590195924447, Accuracy: 0.43538333333333334\n",
      "Epoch: 40,Loss: 1.2099874590733721, Accuracy: 0.6348833333333334\n",
      "Epoch: 50,Loss: 0.7402806838460576, Accuracy: 0.7523833333333333\n",
      "Epoch: 60,Loss: 0.4968050612778894, Accuracy: 0.8418333333333333\n",
      "Epoch: 70,Loss: 0.5727136865828855, Accuracy: 0.8055333333333333\n",
      "Epoch: 80,Loss: 0.3143182293665256, Accuracy: 0.9069833333333334\n",
      "Epoch: 90,Loss: 0.34748605531715215, Accuracy: 0.8938833333333334\n",
      "Epoch: 100,Loss: 0.2679595155769922, Accuracy: 0.91955\n",
      "Epoch: 110,Loss: 0.27539301486715534, Accuracy: 0.9154333333333333\n",
      "Epoch: 120,Loss: 0.22627570422082674, Accuracy: 0.9320166666666667\n",
      "Epoch: 130,Loss: 0.21145292500630974, Accuracy: 0.9362166666666667\n",
      "Epoch: 140,Loss: 0.20292865814268066, Accuracy: 0.93845\n",
      "Epoch: 150,Loss: 0.1976421306214987, Accuracy: 0.9397666666666666\n",
      "Epoch: 160,Loss: 0.18168264166681894, Accuracy: 0.9449\n",
      "Epoch: 170,Loss: 0.17196162806125723, Accuracy: 0.94805\n",
      "Epoch: 180,Loss: 0.16581738017166156, Accuracy: 0.9502333333333334\n",
      "Epoch: 190,Loss: 0.1614173108873717, Accuracy: 0.95125\n",
      "Epoch: 200,Loss: 0.15497979087263553, Accuracy: 0.9533666666666667\n",
      "Epoch: 210,Loss: 0.14698688061673573, Accuracy: 0.9560166666666666\n",
      "Epoch: 220,Loss: 0.14084592080266564, Accuracy: 0.9581833333333334\n",
      "Epoch: 230,Loss: 0.13569118141067738, Accuracy: 0.96\n",
      "Epoch: 240,Loss: 0.13105835375831884, Accuracy: 0.96125\n",
      "Epoch: 250,Loss: 0.1269118746946228, Accuracy: 0.96265\n",
      "Epoch: 260,Loss: 0.12311534857397603, Accuracy: 0.9634333333333334\n",
      "Epoch: 270,Loss: 0.1195008771368315, Accuracy: 0.9643833333333334\n",
      "Epoch: 280,Loss: 0.11589385291625985, Accuracy: 0.9655833333333333\n",
      "Epoch: 290,Loss: 0.11232927525661919, Accuracy: 0.9664833333333334\n",
      "Epoch: 300,Loss: 0.10885834191510603, Accuracy: 0.9678333333333333\n",
      "Epoch: 310,Loss: 0.10561281066812851, Accuracy: 0.9687833333333333\n",
      "Epoch: 320,Loss: 0.10248023888394237, Accuracy: 0.9696666666666667\n",
      "Epoch: 330,Loss: 0.09947467629664308, Accuracy: 0.9705166666666667\n",
      "Epoch: 340,Loss: 0.09668771705577968, Accuracy: 0.9716\n",
      "Epoch: 350,Loss: 0.09404677648193087, Accuracy: 0.9726333333333333\n",
      "Epoch: 360,Loss: 0.09152103327145962, Accuracy: 0.9736166666666667\n",
      "Epoch: 370,Loss: 0.08913937360874961, Accuracy: 0.97445\n",
      "Epoch: 380,Loss: 0.08689728637980108, Accuracy: 0.97505\n",
      "Epoch: 390,Loss: 0.08469740877666287, Accuracy: 0.9757166666666667\n",
      "Epoch: 400,Loss: 0.08250120242146558, Accuracy: 0.9764333333333334\n",
      "Epoch: 410,Loss: 0.08038990751244175, Accuracy: 0.9772166666666666\n",
      "Epoch: 420,Loss: 0.07837604016408004, Accuracy: 0.9778833333333333\n",
      "Epoch: 430,Loss: 0.07644873667402695, Accuracy: 0.9784333333333334\n",
      "Epoch: 440,Loss: 0.07461829546362697, Accuracy: 0.979\n",
      "Epoch: 450,Loss: 0.07285777200566143, Accuracy: 0.9794166666666667\n",
      "Epoch: 460,Loss: 0.07111769254534334, Accuracy: 0.9798666666666667\n",
      "Epoch: 470,Loss: 0.06941670618757467, Accuracy: 0.9803\n",
      "Epoch: 480,Loss: 0.06778296221014542, Accuracy: 0.9808666666666667\n",
      "Epoch: 490,Loss: 0.06618878347360821, Accuracy: 0.9813\n",
      "Epoch: 499,Loss: 0.06478695475301481, Accuracy: 0.98155\n"
     ]
    }
   ],
   "source": [
    "model = MyMultiLayerPerceptron(28*28,128,64,10)\n",
    "learning_rate = 0.6\n",
    "regularization = 1e-3\n",
    "\n",
    "epochs = 500\n",
    "for i in range(epochs):\n",
    "    model.forward(data_train)\n",
    "    model.backward(target_train.T)\n",
    "    model.step(learning_rate,regularization)\n",
    "    \n",
    "    if (i% 10 == 0) or (i == epochs-1):\n",
    "        loss=model.compute_loss(target_train.T)\n",
    "        accuracy=calculate_accuracy(model.prediction,target_train.T)\n",
    "        print(f'Epoch: {i},Loss: {loss}, Accuracy: {accuracy}')"
   ]
  },
  {
   "cell_type": "code",
   "execution_count": 41,
   "metadata": {},
   "outputs": [
    {
     "data": {
      "text/plain": [
       "0.9643"
      ]
     },
     "execution_count": 41,
     "metadata": {},
     "output_type": "execute_result"
    }
   ],
   "source": [
    "calculate_accuracy(model.forward(data_test),target_test.T)"
   ]
  },
  {
   "cell_type": "markdown",
   "metadata": {},
   "source": [
    "#### Here I simply added a hidden layer to neural network and I've set it's size to 128 and I've initialized the network differently for better results. Neural Network layer and other paramaters are chosen by trial and error. "
   ]
  },
  {
   "cell_type": "code",
   "execution_count": null,
   "metadata": {},
   "outputs": [],
   "source": []
  }
 ],
 "metadata": {
  "colab": {
   "collapsed_sections": [],
   "name": "ML2021S-HW4-Practical.ipynb",
   "provenance": []
  },
  "kernelspec": {
   "display_name": "Python 3",
   "language": "python",
   "name": "python3"
  },
  "language_info": {
   "codemirror_mode": {
    "name": "ipython",
    "version": 3
   },
   "file_extension": ".py",
   "mimetype": "text/x-python",
   "name": "python",
   "nbconvert_exporter": "python",
   "pygments_lexer": "ipython3",
   "version": "3.7.4"
  },
  "toc": {
   "base_numbering": 1,
   "nav_menu": {},
   "number_sections": true,
   "sideBar": true,
   "skip_h1_title": false,
   "title_cell": "Table of Contents",
   "title_sidebar": "Contents",
   "toc_cell": false,
   "toc_position": {},
   "toc_section_display": true,
   "toc_window_display": false
  },
  "varInspector": {
   "cols": {
    "lenName": 16,
    "lenType": 16,
    "lenVar": 40
   },
   "kernels_config": {
    "python": {
     "delete_cmd_postfix": "",
     "delete_cmd_prefix": "del ",
     "library": "var_list.py",
     "varRefreshCmd": "print(var_dic_list())"
    },
    "r": {
     "delete_cmd_postfix": ") ",
     "delete_cmd_prefix": "rm(",
     "library": "var_list.r",
     "varRefreshCmd": "cat(var_dic_list()) "
    }
   },
   "types_to_exclude": [
    "module",
    "function",
    "builtin_function_or_method",
    "instance",
    "_Feature"
   ],
   "window_display": false
  }
 },
 "nbformat": 4,
 "nbformat_minor": 4
}
